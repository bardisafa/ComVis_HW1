{
 "cells": [
  {
   "cell_type": "markdown",
   "metadata": {},
   "source": [
    "# HW1 (Computer Vision)\n",
    "## Bardia Safaei\n",
    "## Student Number : 95101909\n"
   ]
  },
  {
   "cell_type": "markdown",
   "metadata": {},
   "source": [
    "### Part a:"
   ]
  },
  {
   "cell_type": "markdown",
   "metadata": {},
   "source": [
    "### Q1-a : "
   ]
  },
  {
   "cell_type": "code",
   "execution_count": 1,
   "metadata": {},
   "outputs": [],
   "source": [
    "import cv2\n",
    "import numpy as np"
   ]
  },
  {
   "cell_type": "code",
   "execution_count": 16,
   "metadata": {},
   "outputs": [],
   "source": [
    "# Load image :\n",
    "img = cv2.imread('1.jpg')\n",
    "\n",
    "# Add texture to the image :\n",
    "std_id = 95101909\n",
    "cv2.putText(img, str(std_id), (10, 30), cv2.FONT_HERSHEY_SIMPLEX,1.0, (0, 0, 255), 3)\n",
    "\n",
    "cv2.imshow(\"Image\", img)\n",
    "\n",
    "# BGR to RGB\n",
    "img_RGB = cv2.cvtColor(img, cv2.COLOR_BGR2RGB)\n",
    "cv2.imshow(\"Image_RGB\", img_RGB)\n",
    "\n",
    "# BGR to Grayscale\n",
    "img_gray = cv2.cvtColor(img, cv2.COLOR_BGR2GRAY)\n",
    "cv2.imshow('Image_gray',img_gray)\n",
    "\n",
    "\n",
    "k = cv2.waitKey(0)\n",
    "if k == ord('e'):         # wait for 'e' key to exit\n",
    "    cv2.destroyAllWindows()\n",
    "    \n",
    "elif k == ord('s'): # wait for 's' key to save and exit    \n",
    "    cv2.imwrite('image_gray.jpg',img_gray)\n",
    "    cv2.imwrite('image_RGB.jpg',img_RGB)\n",
    "    cv2.destroyAllWindows()\n"
   ]
  }
 ],
 "metadata": {
  "kernelspec": {
   "display_name": "Python 3",
   "language": "python",
   "name": "python3"
  },
  "language_info": {
   "codemirror_mode": {
    "name": "ipython",
    "version": 3
   },
   "file_extension": ".py",
   "mimetype": "text/x-python",
   "name": "python",
   "nbconvert_exporter": "python",
   "pygments_lexer": "ipython3",
   "version": "3.7.3"
  }
 },
 "nbformat": 4,
 "nbformat_minor": 2
}
