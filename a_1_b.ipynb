{
 "cells": [
  {
   "cell_type": "markdown",
   "metadata": {},
   "source": [
    "# HW1 (Computer Vision)\n",
    "## Bardia Safaei\n",
    "## Student Number : 95101909\n"
   ]
  },
  {
   "cell_type": "markdown",
   "metadata": {},
   "source": [
    "### Part a:"
   ]
  },
  {
   "cell_type": "markdown",
   "metadata": {},
   "source": [
    "### Q1-b : "
   ]
  },
  {
   "cell_type": "code",
   "execution_count": 10,
   "metadata": {},
   "outputs": [],
   "source": [
    "import cv2\n",
    "import numpy as np"
   ]
  },
  {
   "cell_type": "code",
   "execution_count": 11,
   "metadata": {},
   "outputs": [
    {
     "data": {
      "text/plain": [
       "-1"
      ]
     },
     "execution_count": 11,
     "metadata": {},
     "output_type": "execute_result"
    }
   ],
   "source": [
    "# Load image :\n",
    "img = cv2.imread('football.jpg')\n",
    "\n",
    "\n",
    "# Add green rectangle around the ball :\n",
    "thickness = 2\n",
    "cv2.rectangle(img, (302, 460), (370, 530), (0,255,0), thickness)    # Create rectangle around ball\n",
    "cv2.imshow('bounding ball', img)\n",
    "\n",
    "# Add new ball:\n",
    "ball = img[460+thickness:530-thickness, 302+thickness:370-thickness]\n",
    "img[460+thickness:530-thickness, 602+thickness:670-thickness] = ball\n",
    "cv2.imshow('two balls', img)\n",
    "\n",
    "\n",
    "# Save:\n",
    "cv2.imwrite('bound_add_ball.jpg', img)\n",
    "\n",
    "cv2.waitKey(0)\n"
   ]
  },
  {
   "cell_type": "code",
   "execution_count": null,
   "metadata": {},
   "outputs": [],
   "source": []
  }
 ],
 "metadata": {
  "kernelspec": {
   "display_name": "Python 3",
   "language": "python",
   "name": "python3"
  },
  "language_info": {
   "codemirror_mode": {
    "name": "ipython",
    "version": 3
   },
   "file_extension": ".py",
   "mimetype": "text/x-python",
   "name": "python",
   "nbconvert_exporter": "python",
   "pygments_lexer": "ipython3",
   "version": "3.7.3"
  }
 },
 "nbformat": 4,
 "nbformat_minor": 2
}
